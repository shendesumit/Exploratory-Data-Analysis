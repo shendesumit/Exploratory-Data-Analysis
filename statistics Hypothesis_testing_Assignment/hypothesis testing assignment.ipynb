{
 "cells": [
  {
   "cell_type": "markdown",
   "metadata": {},
   "source": [
    "## Give some statistics about Dataset"
   ]
  },
  {
   "cell_type": "code",
   "execution_count": 1,
   "metadata": {
    "_cell_guid": "79c7e3d0-c299-4dcb-8224-4455121ee9b0",
    "_uuid": "d629ff2d2480ee46fbb7e2d37f6b5fab8052498a"
   },
   "outputs": [],
   "source": [
    "# Import libraries\n",
    "\n",
    "import numpy as np\n",
    "import pandas as pd \n",
    "import matplotlib.pyplot as plt\n",
    "import seaborn as sns\n",
    "from scipy import stats\n",
    "import math"
   ]
  },
  {
   "cell_type": "code",
   "execution_count": 3,
   "metadata": {
    "_cell_guid": "",
    "_uuid": ""
   },
   "outputs": [
    {
     "data": {
      "text/html": [
       "<div>\n",
       "<style scoped>\n",
       "    .dataframe tbody tr th:only-of-type {\n",
       "        vertical-align: middle;\n",
       "    }\n",
       "\n",
       "    .dataframe tbody tr th {\n",
       "        vertical-align: top;\n",
       "    }\n",
       "\n",
       "    .dataframe thead th {\n",
       "        text-align: right;\n",
       "    }\n",
       "</style>\n",
       "<table border=\"1\" class=\"dataframe\">\n",
       "  <thead>\n",
       "    <tr style=\"text-align: right;\">\n",
       "      <th></th>\n",
       "      <th>custid</th>\n",
       "      <th>sex</th>\n",
       "      <th>AqChannel</th>\n",
       "      <th>region</th>\n",
       "      <th>Marital_status</th>\n",
       "      <th>segment</th>\n",
       "      <th>pre_usage</th>\n",
       "      <th>Post_usage_1month</th>\n",
       "      <th>Latest_mon_usage</th>\n",
       "      <th>post_usage_2ndmonth</th>\n",
       "    </tr>\n",
       "  </thead>\n",
       "  <tbody>\n",
       "    <tr>\n",
       "      <th>0</th>\n",
       "      <td>70</td>\n",
       "      <td>0</td>\n",
       "      <td>4</td>\n",
       "      <td>1</td>\n",
       "      <td>1</td>\n",
       "      <td>1</td>\n",
       "      <td>57</td>\n",
       "      <td>52</td>\n",
       "      <td>49.2</td>\n",
       "      <td>57.2</td>\n",
       "    </tr>\n",
       "    <tr>\n",
       "      <th>1</th>\n",
       "      <td>121</td>\n",
       "      <td>1</td>\n",
       "      <td>4</td>\n",
       "      <td>2</td>\n",
       "      <td>1</td>\n",
       "      <td>3</td>\n",
       "      <td>68</td>\n",
       "      <td>59</td>\n",
       "      <td>63.6</td>\n",
       "      <td>64.9</td>\n",
       "    </tr>\n",
       "    <tr>\n",
       "      <th>2</th>\n",
       "      <td>86</td>\n",
       "      <td>0</td>\n",
       "      <td>4</td>\n",
       "      <td>3</td>\n",
       "      <td>1</td>\n",
       "      <td>1</td>\n",
       "      <td>44</td>\n",
       "      <td>33</td>\n",
       "      <td>64.8</td>\n",
       "      <td>36.3</td>\n",
       "    </tr>\n",
       "    <tr>\n",
       "      <th>3</th>\n",
       "      <td>141</td>\n",
       "      <td>0</td>\n",
       "      <td>4</td>\n",
       "      <td>3</td>\n",
       "      <td>1</td>\n",
       "      <td>3</td>\n",
       "      <td>63</td>\n",
       "      <td>44</td>\n",
       "      <td>56.4</td>\n",
       "      <td>48.4</td>\n",
       "    </tr>\n",
       "    <tr>\n",
       "      <th>4</th>\n",
       "      <td>172</td>\n",
       "      <td>0</td>\n",
       "      <td>4</td>\n",
       "      <td>2</td>\n",
       "      <td>1</td>\n",
       "      <td>2</td>\n",
       "      <td>47</td>\n",
       "      <td>52</td>\n",
       "      <td>68.4</td>\n",
       "      <td>57.2</td>\n",
       "    </tr>\n",
       "  </tbody>\n",
       "</table>\n",
       "</div>"
      ],
      "text/plain": [
       "   custid  sex  AqChannel  region  Marital_status  segment  pre_usage  \\\n",
       "0      70    0          4       1               1        1         57   \n",
       "1     121    1          4       2               1        3         68   \n",
       "2      86    0          4       3               1        1         44   \n",
       "3     141    0          4       3               1        3         63   \n",
       "4     172    0          4       2               1        2         47   \n",
       "\n",
       "   Post_usage_1month  Latest_mon_usage  post_usage_2ndmonth  \n",
       "0                 52              49.2                 57.2  \n",
       "1                 59              63.6                 64.9  \n",
       "2                 33              64.8                 36.3  \n",
       "3                 44              56.4                 48.4  \n",
       "4                 52              68.4                 57.2  "
      ]
     },
     "execution_count": 3,
     "metadata": {},
     "output_type": "execute_result"
    }
   ],
   "source": [
    "# read dataframe\n",
    "df = pd.read_csv('cust_seg.csv')\n",
    "df.head()"
   ]
  },
  {
   "cell_type": "code",
   "execution_count": 4,
   "metadata": {},
   "outputs": [
    {
     "name": "stdout",
     "output_type": "stream",
     "text": [
      "<class 'pandas.core.frame.DataFrame'>\n",
      "RangeIndex: 200 entries, 0 to 199\n",
      "Data columns (total 10 columns):\n",
      " #   Column               Non-Null Count  Dtype  \n",
      "---  ------               --------------  -----  \n",
      " 0   custid               200 non-null    int64  \n",
      " 1   sex                  200 non-null    int64  \n",
      " 2   AqChannel            200 non-null    int64  \n",
      " 3   region               200 non-null    int64  \n",
      " 4   Marital_status       200 non-null    int64  \n",
      " 5   segment              200 non-null    int64  \n",
      " 6   pre_usage            200 non-null    int64  \n",
      " 7   Post_usage_1month    200 non-null    int64  \n",
      " 8   Latest_mon_usage     200 non-null    float64\n",
      " 9   post_usage_2ndmonth  200 non-null    float64\n",
      "dtypes: float64(2), int64(8)\n",
      "memory usage: 15.8 KB\n"
     ]
    }
   ],
   "source": [
    "df.info()"
   ]
  },
  {
   "cell_type": "code",
   "execution_count": 5,
   "metadata": {},
   "outputs": [
    {
     "data": {
      "text/html": [
       "<div>\n",
       "<style scoped>\n",
       "    .dataframe tbody tr th:only-of-type {\n",
       "        vertical-align: middle;\n",
       "    }\n",
       "\n",
       "    .dataframe tbody tr th {\n",
       "        vertical-align: top;\n",
       "    }\n",
       "\n",
       "    .dataframe thead th {\n",
       "        text-align: right;\n",
       "    }\n",
       "</style>\n",
       "<table border=\"1\" class=\"dataframe\">\n",
       "  <thead>\n",
       "    <tr style=\"text-align: right;\">\n",
       "      <th></th>\n",
       "      <th>custid</th>\n",
       "      <th>sex</th>\n",
       "      <th>AqChannel</th>\n",
       "      <th>region</th>\n",
       "      <th>Marital_status</th>\n",
       "      <th>segment</th>\n",
       "      <th>pre_usage</th>\n",
       "      <th>Post_usage_1month</th>\n",
       "      <th>Latest_mon_usage</th>\n",
       "      <th>post_usage_2ndmonth</th>\n",
       "    </tr>\n",
       "  </thead>\n",
       "  <tbody>\n",
       "    <tr>\n",
       "      <th>count</th>\n",
       "      <td>200.000000</td>\n",
       "      <td>200.00000</td>\n",
       "      <td>200.000000</td>\n",
       "      <td>200.000000</td>\n",
       "      <td>200.000000</td>\n",
       "      <td>200.000000</td>\n",
       "      <td>200.000000</td>\n",
       "      <td>200.000000</td>\n",
       "      <td>200.000000</td>\n",
       "      <td>200.000000</td>\n",
       "    </tr>\n",
       "    <tr>\n",
       "      <th>mean</th>\n",
       "      <td>100.500000</td>\n",
       "      <td>0.54500</td>\n",
       "      <td>3.430000</td>\n",
       "      <td>2.055000</td>\n",
       "      <td>1.160000</td>\n",
       "      <td>2.025000</td>\n",
       "      <td>52.230000</td>\n",
       "      <td>52.775000</td>\n",
       "      <td>63.174000</td>\n",
       "      <td>58.052500</td>\n",
       "    </tr>\n",
       "    <tr>\n",
       "      <th>std</th>\n",
       "      <td>57.879185</td>\n",
       "      <td>0.49922</td>\n",
       "      <td>1.039472</td>\n",
       "      <td>0.724291</td>\n",
       "      <td>0.367526</td>\n",
       "      <td>0.690477</td>\n",
       "      <td>10.252937</td>\n",
       "      <td>9.478586</td>\n",
       "      <td>11.242137</td>\n",
       "      <td>10.426445</td>\n",
       "    </tr>\n",
       "    <tr>\n",
       "      <th>min</th>\n",
       "      <td>1.000000</td>\n",
       "      <td>0.00000</td>\n",
       "      <td>1.000000</td>\n",
       "      <td>1.000000</td>\n",
       "      <td>1.000000</td>\n",
       "      <td>1.000000</td>\n",
       "      <td>28.000000</td>\n",
       "      <td>31.000000</td>\n",
       "      <td>39.600000</td>\n",
       "      <td>34.100000</td>\n",
       "    </tr>\n",
       "    <tr>\n",
       "      <th>25%</th>\n",
       "      <td>50.750000</td>\n",
       "      <td>0.00000</td>\n",
       "      <td>3.000000</td>\n",
       "      <td>2.000000</td>\n",
       "      <td>1.000000</td>\n",
       "      <td>2.000000</td>\n",
       "      <td>44.000000</td>\n",
       "      <td>45.750000</td>\n",
       "      <td>54.000000</td>\n",
       "      <td>50.325000</td>\n",
       "    </tr>\n",
       "    <tr>\n",
       "      <th>50%</th>\n",
       "      <td>100.500000</td>\n",
       "      <td>1.00000</td>\n",
       "      <td>4.000000</td>\n",
       "      <td>2.000000</td>\n",
       "      <td>1.000000</td>\n",
       "      <td>2.000000</td>\n",
       "      <td>50.000000</td>\n",
       "      <td>54.000000</td>\n",
       "      <td>62.400000</td>\n",
       "      <td>59.400000</td>\n",
       "    </tr>\n",
       "    <tr>\n",
       "      <th>75%</th>\n",
       "      <td>150.250000</td>\n",
       "      <td>1.00000</td>\n",
       "      <td>4.000000</td>\n",
       "      <td>3.000000</td>\n",
       "      <td>1.000000</td>\n",
       "      <td>2.250000</td>\n",
       "      <td>60.000000</td>\n",
       "      <td>60.000000</td>\n",
       "      <td>70.800000</td>\n",
       "      <td>66.000000</td>\n",
       "    </tr>\n",
       "    <tr>\n",
       "      <th>max</th>\n",
       "      <td>200.000000</td>\n",
       "      <td>1.00000</td>\n",
       "      <td>4.000000</td>\n",
       "      <td>3.000000</td>\n",
       "      <td>2.000000</td>\n",
       "      <td>3.000000</td>\n",
       "      <td>76.000000</td>\n",
       "      <td>67.000000</td>\n",
       "      <td>90.000000</td>\n",
       "      <td>73.700000</td>\n",
       "    </tr>\n",
       "  </tbody>\n",
       "</table>\n",
       "</div>"
      ],
      "text/plain": [
       "           custid        sex   AqChannel      region  Marital_status  \\\n",
       "count  200.000000  200.00000  200.000000  200.000000      200.000000   \n",
       "mean   100.500000    0.54500    3.430000    2.055000        1.160000   \n",
       "std     57.879185    0.49922    1.039472    0.724291        0.367526   \n",
       "min      1.000000    0.00000    1.000000    1.000000        1.000000   \n",
       "25%     50.750000    0.00000    3.000000    2.000000        1.000000   \n",
       "50%    100.500000    1.00000    4.000000    2.000000        1.000000   \n",
       "75%    150.250000    1.00000    4.000000    3.000000        1.000000   \n",
       "max    200.000000    1.00000    4.000000    3.000000        2.000000   \n",
       "\n",
       "          segment   pre_usage  Post_usage_1month  Latest_mon_usage  \\\n",
       "count  200.000000  200.000000         200.000000        200.000000   \n",
       "mean     2.025000   52.230000          52.775000         63.174000   \n",
       "std      0.690477   10.252937           9.478586         11.242137   \n",
       "min      1.000000   28.000000          31.000000         39.600000   \n",
       "25%      2.000000   44.000000          45.750000         54.000000   \n",
       "50%      2.000000   50.000000          54.000000         62.400000   \n",
       "75%      2.250000   60.000000          60.000000         70.800000   \n",
       "max      3.000000   76.000000          67.000000         90.000000   \n",
       "\n",
       "       post_usage_2ndmonth  \n",
       "count           200.000000  \n",
       "mean             58.052500  \n",
       "std              10.426445  \n",
       "min              34.100000  \n",
       "25%              50.325000  \n",
       "50%              59.400000  \n",
       "75%              66.000000  \n",
       "max              73.700000  "
      ]
     },
     "execution_count": 5,
     "metadata": {},
     "output_type": "execute_result"
    }
   ],
   "source": [
    "df.describe()"
   ]
  },
  {
   "cell_type": "markdown",
   "metadata": {},
   "source": [
    "# 1. Card usage has been improved significanlty from last year usage which is 50. \n",
    "(Hint: comparing card usage of post campaign of 1 month with last year hypothesized value 50)\n",
    "\n"
   ]
  },
  {
   "cell_type": "markdown",
   "metadata": {},
   "source": [
    "**H0 (Null hypothesis) Sample_avg = 50**\n",
    "\n",
    "**Ha (ALT hypothesis) Sample_avg > 50**\n",
    "\n",
    "**If P < 0.05 we can reject the NULL hypothesis**"
   ]
  },
  {
   "cell_type": "code",
   "execution_count": 6,
   "metadata": {},
   "outputs": [
    {
     "data": {
      "text/plain": [
       "Ttest_1sampResult(statistic=4.140324966963024, pvalue=5.120919460716355e-05)"
      ]
     },
     "execution_count": 6,
     "metadata": {},
     "output_type": "execute_result"
    }
   ],
   "source": [
    "stats.ttest_1samp(a=df.Post_usage_1month,popmean=50)"
   ]
  },
  {
   "cell_type": "markdown",
   "metadata": {},
   "source": [
    "here p value is very small so we reject NULL Hypothesis"
   ]
  },
  {
   "cell_type": "markdown",
   "metadata": {},
   "source": [
    "# 2. The last campaign was successful in terms usage of credit card. \n",
    "(Hint comparning means for card usage of pre and post usage of campaign).\n"
   ]
  },
  {
   "cell_type": "markdown",
   "metadata": {},
   "source": [
    "**H0 (NULL hypothesis) Pre_avg = post_avg**\n",
    "\n",
    "**Ha (ALT hypothesis) pre_avg < post_avg**\n",
    "\n",
    "**If P < 0.05 we can reject the NULL hypothesis.**"
   ]
  },
  {
   "cell_type": "code",
   "execution_count": 8,
   "metadata": {},
   "outputs": [
    {
     "data": {
      "text/plain": [
       "Ttest_relResult(statistic=-0.8673065458794775, pvalue=0.3868186820914985)"
      ]
     },
     "execution_count": 8,
     "metadata": {},
     "output_type": "execute_result"
    }
   ],
   "source": [
    "stats.ttest_rel(a=df.pre_usage,b=df.Post_usage_1month)"
   ]
  },
  {
   "cell_type": "markdown",
   "metadata": {},
   "source": [
    "* here the p value is not less than 0.05 hence we fail to reject null hypothesis\n",
    "\n",
    "* that means the compaign was succesfull"
   ]
  },
  {
   "cell_type": "markdown",
   "metadata": {},
   "source": [
    "# 3. Is there any difference between males and females in terms of credit card usage? \n",
    "(Hint: Comparing means of Card usage for males and females)\n"
   ]
  },
  {
   "cell_type": "markdown",
   "metadata": {},
   "source": [
    "*** H0: males_avg = females_avg**\n",
    "\n",
    "*** Ha: males_avg <> females_avg**"
   ]
  },
  {
   "cell_type": "markdown",
   "metadata": {},
   "source": [
    "if p<0.05, then we reject NULL (there is difference between males and females in terms of credit card usage)\n",
    "\n",
    "else, you fail to reject the NULL (There is NO difference between males and females in terms of credit card usage)"
   ]
  },
  {
   "cell_type": "code",
   "execution_count": 9,
   "metadata": {},
   "outputs": [],
   "source": [
    "Males_spend = df.Post_usage_1month[df.sex == 0]\n",
    "Females_spend = df.Post_usage_1month[df.sex == 1]"
   ]
  },
  {
   "cell_type": "code",
   "execution_count": 10,
   "metadata": {},
   "outputs": [
    {
     "name": "stdout",
     "output_type": "stream",
     "text": [
      "50.120879120879124\n",
      "54.99082568807339\n",
      "10.305160697259263\n",
      "8.13371516959346\n"
     ]
    }
   ],
   "source": [
    "print(Males_spend.mean())\n",
    "print(Females_spend.mean())\n",
    "print(Males_spend.std())\n",
    "print(Females_spend.std())"
   ]
  },
  {
   "cell_type": "code",
   "execution_count": 11,
   "metadata": {},
   "outputs": [
    {
     "data": {
      "text/plain": [
       "Ttest_indResult(statistic=-3.6564080478875276, pvalue=0.00034088493594266187)"
      ]
     },
     "execution_count": 11,
     "metadata": {},
     "output_type": "execute_result"
    }
   ],
   "source": [
    "stats.ttest_ind(a = Males_spend, b = Females_spend, equal_var = False)"
   ]
  },
  {
   "cell_type": "markdown",
   "metadata": {},
   "source": [
    "* pvalue is less than 0.05\n",
    "* we reject the NULL hypothesis.\n",
    "* Hence, we conclude there is a difference between males and females in terms of credit card usage"
   ]
  },
  {
   "cell_type": "markdown",
   "metadata": {},
   "source": [
    "# 4. Is there any relation between region and segment? \n",
    "(Hint: Finding the relationship between categorical variables and Segment)\n"
   ]
  },
  {
   "cell_type": "markdown",
   "metadata": {},
   "source": [
    "**H0 : There is no relationship**\n",
    "\n",
    "**Ha : There is relationship**\n",
    "\n",
    "* if p < 0.05 , then we reject NULL,\n",
    "\n",
    "* else, we fail to reject NULL Hypothesis."
   ]
  },
  {
   "cell_type": "code",
   "execution_count": 12,
   "metadata": {},
   "outputs": [
    {
     "data": {
      "text/html": [
       "<div>\n",
       "<style scoped>\n",
       "    .dataframe tbody tr th:only-of-type {\n",
       "        vertical-align: middle;\n",
       "    }\n",
       "\n",
       "    .dataframe tbody tr th {\n",
       "        vertical-align: top;\n",
       "    }\n",
       "\n",
       "    .dataframe thead th {\n",
       "        text-align: right;\n",
       "    }\n",
       "</style>\n",
       "<table border=\"1\" class=\"dataframe\">\n",
       "  <thead>\n",
       "    <tr style=\"text-align: right;\">\n",
       "      <th>region</th>\n",
       "      <th>1</th>\n",
       "      <th>2</th>\n",
       "      <th>3</th>\n",
       "      <th>All</th>\n",
       "    </tr>\n",
       "    <tr>\n",
       "      <th>segment</th>\n",
       "      <th></th>\n",
       "      <th></th>\n",
       "      <th></th>\n",
       "      <th></th>\n",
       "    </tr>\n",
       "  </thead>\n",
       "  <tbody>\n",
       "    <tr>\n",
       "      <th>1</th>\n",
       "      <td>16</td>\n",
       "      <td>20</td>\n",
       "      <td>9</td>\n",
       "      <td>45</td>\n",
       "    </tr>\n",
       "    <tr>\n",
       "      <th>2</th>\n",
       "      <td>19</td>\n",
       "      <td>44</td>\n",
       "      <td>42</td>\n",
       "      <td>105</td>\n",
       "    </tr>\n",
       "    <tr>\n",
       "      <th>3</th>\n",
       "      <td>12</td>\n",
       "      <td>31</td>\n",
       "      <td>7</td>\n",
       "      <td>50</td>\n",
       "    </tr>\n",
       "    <tr>\n",
       "      <th>All</th>\n",
       "      <td>47</td>\n",
       "      <td>95</td>\n",
       "      <td>58</td>\n",
       "      <td>200</td>\n",
       "    </tr>\n",
       "  </tbody>\n",
       "</table>\n",
       "</div>"
      ],
      "text/plain": [
       "region    1   2   3  All\n",
       "segment                 \n",
       "1        16  20   9   45\n",
       "2        19  44  42  105\n",
       "3        12  31   7   50\n",
       "All      47  95  58  200"
      ]
     },
     "execution_count": 12,
     "metadata": {},
     "output_type": "execute_result"
    }
   ],
   "source": [
    "t = pd.crosstab(df.segment, df.region, margins = True)\n",
    "t"
   ]
  },
  {
   "cell_type": "code",
   "execution_count": 13,
   "metadata": {},
   "outputs": [
    {
     "data": {
      "text/plain": [
       "(16.60444164948934,\n",
       " 0.055282939487992365,\n",
       " 9,\n",
       " array([[ 10.575,  21.375,  13.05 ,  45.   ],\n",
       "        [ 24.675,  49.875,  30.45 , 105.   ],\n",
       "        [ 11.75 ,  23.75 ,  14.5  ,  50.   ],\n",
       "        [ 47.   ,  95.   ,  58.   , 200.   ]]))"
      ]
     },
     "execution_count": 13,
     "metadata": {},
     "output_type": "execute_result"
    }
   ],
   "source": [
    "stats.chi2_contingency(observed = t)"
   ]
  },
  {
   "cell_type": "code",
   "execution_count": null,
   "metadata": {},
   "outputs": [],
   "source": []
  }
 ],
 "metadata": {
  "kernelspec": {
   "display_name": "Python 3",
   "language": "python",
   "name": "python3"
  },
  "language_info": {
   "codemirror_mode": {
    "name": "ipython",
    "version": 3
   },
   "file_extension": ".py",
   "mimetype": "text/x-python",
   "name": "python",
   "nbconvert_exporter": "python",
   "pygments_lexer": "ipython3",
   "version": "3.8.8"
  }
 },
 "nbformat": 4,
 "nbformat_minor": 1
}
